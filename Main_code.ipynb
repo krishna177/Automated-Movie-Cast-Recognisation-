{
 "cells": [
  {
   "cell_type": "code",
   "execution_count": 1,
   "metadata": {
    "collapsed": true
   },
   "outputs": [],
   "source": [
    "import bs4\n",
    "import pandas as pd\n",
    "import requests"
   ]
  },
  {
   "cell_type": "code",
   "execution_count": 2,
   "metadata": {
    "collapsed": true
   },
   "outputs": [],
   "source": [
    "def get_page_contents(url):\n",
    "    page = requests.get(url, headers={\"Accept-Language\": \"en-US\"})\n",
    "    return bs4.BeautifulSoup(page.text, \"html.parser\")\n"
   ]
  },
  {
   "cell_type": "code",
   "execution_count": 6,
   "metadata": {},
   "outputs": [
    {
     "name": "stdout",
     "output_type": "stream",
     "text": [
      "enter the name of the actor\n",
      "Dhanush\n"
     ]
    }
   ],
   "source": [
    "print(\"enter the name of the actor\")\n",
    "name=input()\n",
    "base=\"https://en.wikipedia.org/wiki/\"\n",
    "url=base+name"
   ]
  },
  {
   "cell_type": "code",
   "execution_count": 7,
   "metadata": {
    "collapsed": true
   },
   "outputs": [],
   "source": [
    "soup = get_page_contents(url)\n"
   ]
  },
  {
   "cell_type": "code",
   "execution_count": 8,
   "metadata": {},
   "outputs": [
    {
     "data": {
      "text/plain": [
       "<table class=\"infobox biography vcard\" style=\"width:22em\"><tbody><tr><th colspan=\"2\" style=\"text-align:center;font-size:125%;font-weight:bold\"><div class=\"fn\" style=\"display:inline\">Dhanush</div></th></tr><tr><td colspan=\"2\" style=\"text-align:center\"><a class=\"image\" href=\"/wiki/File:Dhanush_promotes_VIP2_in_Delhi_(cropped).jpg\"><img alt=\"Dhanush promotes VIP2 in Delhi (cropped).jpg\" data-file-height=\"450\" data-file-width=\"357\" decoding=\"async\" height=\"277\" src=\"//upload.wikimedia.org/wikipedia/commons/thumb/1/13/Dhanush_promotes_VIP2_in_Delhi_%28cropped%29.jpg/220px-Dhanush_promotes_VIP2_in_Delhi_%28cropped%29.jpg\" srcset=\"//upload.wikimedia.org/wikipedia/commons/thumb/1/13/Dhanush_promotes_VIP2_in_Delhi_%28cropped%29.jpg/330px-Dhanush_promotes_VIP2_in_Delhi_%28cropped%29.jpg 1.5x, //upload.wikimedia.org/wikipedia/commons/1/13/Dhanush_promotes_VIP2_in_Delhi_%28cropped%29.jpg 2x\" width=\"220\"/></a><div>Dhanush in 2017</div></td></tr><tr><th scope=\"row\">Born</th><td><div class=\"nickname\" style=\"display:inline\">Venkatesh Prabhu Kasthoori Raja<sup class=\"reference\" id=\"cite_ref-1\"><a href=\"#cite_note-1\">[1]</a></sup></div><br/><span style=\"display:none\"> (<span class=\"bday\">1983-07-28</span>) </span>28 July 1983<span class=\"noprint ForceAgeToShow\"> (age 36)</span><sup class=\"reference\" id=\"cite_ref-2\"><a href=\"#cite_note-2\">[2]</a></sup><br/><div class=\"birthplace\" style=\"display:inline\"><a href=\"/wiki/Theni\" title=\"Theni\">Theni</a>, <a href=\"/wiki/Tamil_Nadu\" title=\"Tamil Nadu\">Tamil Nadu</a>, India</div></td></tr><tr><th scope=\"row\">Nationality</th><td class=\"category\">Indian</td></tr><tr><th scope=\"row\">Occupation</th><td class=\"role\"><div class=\"hlist hlist-separated\"><ul><li>Film actor</li><li>director<sup class=\"reference\" id=\"cite_ref-3\"><a href=\"#cite_note-3\">[3]</a></sup></li><li>producer</li><li>playback singer</li><li>lyricist</li><li>screenwriter</li></ul></div></td></tr><tr><th scope=\"row\">Years active</th><td>2002 – present</td></tr><tr><th scope=\"row\"><span class=\"nowrap\">Spouse(s)</span></th><td><div style=\"display:inline;line-height:normal;margin:2px 0px;\"><a href=\"/wiki/Aishwarya_R._Dhanush\" title=\"Aishwarya R. Dhanush\">Aishwarya R. Dhanush</a> (<abbr title=\"married\">m.</abbr> 2004)</div></td></tr><tr><th scope=\"row\">Children</th><td>2<sup class=\"reference\" id=\"cite_ref-son_4-0\"><a href=\"#cite_note-son-4\">[4]</a></sup></td></tr><tr><th scope=\"row\">Parent(s)</th><td><a href=\"/wiki/Kasthuri_Raja\" title=\"Kasthuri Raja\">Kasthuri Raja</a> (father) <br/>Vijayalakshmi (mother)</td></tr><tr><th scope=\"row\">Relatives</th><td>See <a href=\"/wiki/List_of_South_Indian_film_families#Kasthuri_Raja_family\" title=\"List of South Indian film families\">Kasthuri Raja family</a></td></tr></tbody></table>"
      ]
     },
     "execution_count": 8,
     "metadata": {},
     "output_type": "execute_result"
    }
   ],
   "source": [
    "table = soup.find(\"table\", { \"class\" : \"infobox biography vcard\" })\n",
    "table"
   ]
  },
  {
   "cell_type": "code",
   "execution_count": 9,
   "metadata": {},
   "outputs": [
    {
     "name": "stdout",
     "output_type": "stream",
     "text": [
      "[]\n",
      "[<td colspan=\"2\" style=\"text-align:center\"><a class=\"image\" href=\"/wiki/File:Dhanush_promotes_VIP2_in_Delhi_(cropped).jpg\"><img alt=\"Dhanush promotes VIP2 in Delhi (cropped).jpg\" data-file-height=\"450\" data-file-width=\"357\" decoding=\"async\" height=\"277\" src=\"//upload.wikimedia.org/wikipedia/commons/thumb/1/13/Dhanush_promotes_VIP2_in_Delhi_%28cropped%29.jpg/220px-Dhanush_promotes_VIP2_in_Delhi_%28cropped%29.jpg\" srcset=\"//upload.wikimedia.org/wikipedia/commons/thumb/1/13/Dhanush_promotes_VIP2_in_Delhi_%28cropped%29.jpg/330px-Dhanush_promotes_VIP2_in_Delhi_%28cropped%29.jpg 1.5x, //upload.wikimedia.org/wikipedia/commons/1/13/Dhanush_promotes_VIP2_in_Delhi_%28cropped%29.jpg 2x\" width=\"220\"/></a><div>Dhanush in 2017</div></td>]\n",
      "[<td><div class=\"nickname\" style=\"display:inline\">Venkatesh Prabhu Kasthoori Raja<sup class=\"reference\" id=\"cite_ref-1\"><a href=\"#cite_note-1\">[1]</a></sup></div><br/><span style=\"display:none\"> (<span class=\"bday\">1983-07-28</span>) </span>28 July 1983<span class=\"noprint ForceAgeToShow\"> (age 36)</span><sup class=\"reference\" id=\"cite_ref-2\"><a href=\"#cite_note-2\">[2]</a></sup><br/><div class=\"birthplace\" style=\"display:inline\"><a href=\"/wiki/Theni\" title=\"Theni\">Theni</a>, <a href=\"/wiki/Tamil_Nadu\" title=\"Tamil Nadu\">Tamil Nadu</a>, India</div></td>]\n",
      "[<td class=\"category\">Indian</td>]\n",
      "[<td class=\"role\"><div class=\"hlist hlist-separated\"><ul><li>Film actor</li><li>director<sup class=\"reference\" id=\"cite_ref-3\"><a href=\"#cite_note-3\">[3]</a></sup></li><li>producer</li><li>playback singer</li><li>lyricist</li><li>screenwriter</li></ul></div></td>]\n",
      "[<td>2002 – present</td>]\n",
      "[<td><div style=\"display:inline;line-height:normal;margin:2px 0px;\"><a href=\"/wiki/Aishwarya_R._Dhanush\" title=\"Aishwarya R. Dhanush\">Aishwarya R. Dhanush</a> (<abbr title=\"married\">m.</abbr> 2004)</div></td>]\n",
      "[<td>2<sup class=\"reference\" id=\"cite_ref-son_4-0\"><a href=\"#cite_note-son-4\">[4]</a></sup></td>]\n",
      "[<td><a href=\"/wiki/Kasthuri_Raja\" title=\"Kasthuri Raja\">Kasthuri Raja</a> (father) <br/>Vijayalakshmi (mother)</td>]\n",
      "[<td>See <a href=\"/wiki/List_of_South_Indian_film_families#Kasthuri_Raja_family\" title=\"List of South Indian film families\">Kasthuri Raja family</a></td>]\n"
     ]
    }
   ],
   "source": [
    "for row in table.findAll(\"tr\"):\n",
    "    cells = row.findAll(\"td\")\n",
    "    print (cells)"
   ]
  },
  {
   "cell_type": "code",
   "execution_count": 16,
   "metadata": {},
   "outputs": [
    {
     "data": {
      "text/plain": [
       "'Venkatesh Prabhu Kasthoori Raja (born 28 July 1982), better known by his stage name Dhanush, is an Indian film actor, producer, director, writer, lyricist, screenwriter and playback singer who predominantly works in Tamil cinema.[5] Due to his martial arts influenced fight scenes in films, he has been dubbed the \"Indian Bruce Lee\" by Indian media and fans.[6] Starring in 44 films over his career, among Dhanush\\'s awards include 13 SIIMA Awards, nine Vijay Awards, seven Filmfare Awards South, five Vikatan Awards, five Edison Awards, three National Film Awards and a Filmfare Award.[7] He was included in the Forbes India Celebrity 100 list in 2014, 2015, 2016, 2017, 2018 and 2019, which is based on the earnings of Indian celebrities.[8]\\nDhanush\\'s first film was Thulluvadho Ilamai, a 2002 coming-of-age film directed by his father, Kasthuri Raja. He collaborated with debutant director Vetrimaaran in Polladhavan (2007) which was critically acclaimed and commercially successful.[9] He collaborated with Vetrimaaran for the second time in Aadukalam (2010), where his role as a rooster fight jockey in the film won him Best Actor at the 58th National Film Awards and Best Tamil Actor Award at the 60th Filmfare Awards South.[10] Dhanush starred in the action comedy film sequels Maari (2015) & Maari 2 (2018) and Velaiilla Pattadhari (2014) & Velaiilla Pattadhari 2 (2017). Velaiilla Pattadhari and Velaiilla Pattadhari 2, also known as VIP and VIP 2, were among the highest-grossing Tamil films of 2014 and 2017, respectively. He also appeared in Thanga Magan (2015), Thodari (2016), Kodi (2016), Vadachennai (2018), Asuran (2019) and Enai Noki Paayum Thota (2019). Vadachennai emerged as the highest-grossing A-rated Tamil film of all time, while Asuran entered the 100 Crore Club for grossing ₹100 crore within a month of its release.[11] Dhanush started the new decade with the martial arts film Pattas (2020). \\nIn 2011, Dhanush\\'s popular song \"Why this Kolaveri Di\" from the romantic psychological thriller film 3 (2012) became the first Indian music video to cross 100 million views on YouTube.[12] He made his Bollywood debut with Aanand L Rai\\'s Raanjhanaa (2013). His performance as an obsessive one-sided lover in the film won him the Best Male Debut Award and earned a Best Actor nomination at the 59th Filmfare Awards.[13] Dhanush produces films through his production company, Wunderbar Films.[14] He made his directorial debut with Pa Paandi (2017).[15] His song \"Rowdy Baby\" from Maari 2 became one of the most-viewed Indian songs of all time.[16] As of March 2020, it is the only South Indian video song to receive more than 800 million views on YouTube.\\nDhanush was born to Tamil film director and producer Kasthuri Raja on 28 July 1982. He entered acting after being pressured by his brother, director Selvaraghavan.[17]\\nDhanush married Aishwarya, Rajinikanth\\'s eldest daughter on 18 November 2004. They have two sons named Yatra and Linga, who were born in 2006 and 2010.[18][4]\\nDhanush debuted in the 2002 film Thulluvadho Ilamai, directed by his father Kasthuri Raja, which received mostly positive reviews from critics and the public. He then appeared in his brother Selvaraghavan\\'s first directorial venture Kadhal Kondein in 2003. The film portrayed Dhanush as a mentally-disturbed youth, Vinodh, who yearned for the love of his friend, eventually turning possessive of her. Upon release, the film won critical acclaim and also became a major commercial success, eventually becoming Dhanush\\'s first major breakthrough in Tamil cinema.[19] His next film was Thiruda Thirudi.[20]\\nIn 2004, Dhanush appeared in Pudhukottaiyilirundhu Saravanan  and Sullan.[21] Later, he also appeared in Dreams, another film panned by critics.[22] The film was directed by his father, like their previous ventures. In 2005, Dhanush appeared in Devathaiyai Kanden. Later, it was dubbed into Telugu,[23] and in the same year, he also worked on Balu Mahendra\\'s Adhu Oru Kana Kaalam.\\nPudhupettai re-united Dhanush with his brother.[24] Dhanush\\'s portrayal was praised by critics[vague].[25]  The Telugu dubbed version was titled Dhoolpet.[23] Dhanush went on to star in the commercial entertainer Thiruvilaiyaadal Aarambam, romancing Shriya Saran.[26][27]\\nDhanush\\'s first release of 2007, Parattai Engira Azhagu Sundaram did not go well.[28] The film was a remake of the successful Kannada language film Jogi.  However, his second film Polladhavan was released during Diwali 2007. Polladhavan was based on the 1948–Italian neorealist film The Bicycle Thieves and Dhanush\\'s performance was appreciated.[29]\\n[check quotation syntax]\\nThe remake of a Telugu film directed by his brother formed the plot line for Dhanush\\'s next movie directed by debutant Mithran Jawahar. The movie was titled Yaaradi Nee Mohini.[30] He later appeared in a cameo appearance, for his father-in-law Rajinikanth\\'s venture Kuselan. His subsequent venture was Suraj\\'s Padikathavan, which was released in January 2009.[31] His performance was praised and well received.[32] His next two films Kutty and Uthama Puthiran, were both collaborations with director Mithran Jawahar.[33]\\nDhanush\\'s first release in 2011, which he had shot for over three years, was Aadukalam, marking his second collaboration with Vetrimaran. Dhanush played the role of a local cockfighter and described the venture as his \"Dream Project\" during production.[34] The film gained highly positive reviews and won six awards at the 58th National Film Awards, with Dhanush receiving the National Film Award for Best Actor,[35] becoming the youngest actor to win the award.[36] Dhanush appeared in an extended guest appearance in Subramania Siva\\'s Seedan. His next two ventures were the action films, Mappillai, a remake of his father-in-law\\'s same-titled 1989 film and Venghai, by Hari, which received mixed reviews but was a commercial success.[33]\\nDhanush\\'s next film, Mayakkam Enna, in which he once again collaborated with his brother, casting him with Richa Gangopadhyay, received largely positive reviews. His only 2012 release was 3, directed by his wife, Aishwarya Rajinikanth with Shruti Haasan. The movie was a moderate success, owing to the popularity of the song Why this Kolaveri Di.[37][38] In 2013, he appeared in Maryan opposite Parvathy, which was applauded by critics, but became an above-average grosser at the box office.[39] His next release was Naiyaandi, directed by A. Sarkunam, which did not make any notable impact at the box office.[40] He made his debut in Bollywood with the film Raanjhanaa, directed by Aanand L.Rai opposite Sonam. The film was released on 21 June 2013 with the Tamil dubbed version Ambikapathy releasing a week later. This film had background score composed by A. R. Rahman, and it grossed over 135 crore rupees worldwide.\\nDhanush\\'s first film of 2014 was Velaiyilla Pattathari, which was also his 25th film and was directed by Velraj. It received mostly positive reviews and was a success, being among the highest-grossing Tamil films of 2014.[41][42] His next release was Shamitabh, released in year 2015 which was also his second Hindi film directed by R. Balki. It opened to very high positive reviews and was praised for the concept, but failed at the box office.[43] His next film Anegan, was a psychological thriller directed by KV Anand, which generated positive reviews and became a box office success.[44]\\nDhanush\\'s next release in 2015 was the action comedy Maari, featuring Kajal Aggarwal, Robo Shankar and Vijay Yesudas. Directed by Balaji Mohan and composed by Anirudh Ravichander, it was released worldwide on 17 July 2015. He also appeared in Thanga Magan, directed by Velraj with Samantha Ruth Prabhu, Amy Jackson, K. S. Ravikumar and Raadhika.[45] In 2016, Dhanush appeared Thodari, which was an action thriller film set on a train and \\nKodi, a political action thriller.\\nHe played a cameo in his directorial debut Power Paandi, which released on 14 April 2017.[46] Velaiilla Pattadhari 2, directed by his sister-in-law Soundarya Rajinikanth, was his first film of 2017 as a lead actor. He penned the story and dialogues for movie. as well as producing it.[47][48][49] It was one of the highest-grossing Tamil films of 2017.[50] His films Vadachennai and Maari 2, a sequel to Maari, were released in 2018. Vadachennai was praised by critics and emerged as the highest-grossing A-rated Tamil film of all time,[51] while Maari 2 got mixed reviews. Dhanush\\'s first international film, titled The Extraordinary Journey of the Fakir, released in 2019 worldwide and was a flop.[52] His main 2019 release, Asuran, was praised by critics for its gritty portrayal of land violence and the film was eventually a box office success, entering the 100 Crore Club for grossing ₹100 crore within a month of its release.[11][53] His next release, a romantic thriller titled Enai Noki Paayum Thota was released on 29 November 2019 after several delays due to financial problems and it received positive reviews.[54][55]\\nDhanush occasionally records music, generally for his own films. He was introduced as a playback singer in Pudhukottaiyilirundhu Saravanan, by its composer Yuvan Shankar Raja and collaborated again with him in his brother Selvaraghavan\\'s directorial, Pudhupettai. He sang further numbers in Selvaraghavan\\'s films Aayirathil Oruvan and Mayakkam Enna; the former featured him alongside his wife Aishwarya Rajinikanth.[56]\\n\"Why this Kolaveri Di\" was released on YouTube in 2011 as part of the soundtrack to the film 3, the directorial debut of Aishwarya Dhanush.[57] The song became the most searched video in India.[58][59][60] Anirudh Ravichander was the soundtrack composer for the film and Dhanush wrote much of the lyrics.[61][62][63] He has also sung \"No Problem\" in the Kannada movie Vajrakaya[64] and \"Thikka\" in the Telugu movie Thikka.[65]\\nDhanush has sung for the very first time in a film in which he is not part of, for the debutant musician Ganesh Chandrasekaran in the film Ezhumin. The song was received well among the audience as he famously renders it emotionally.[66]\\n\"Kadhal En Kadhal\"\\n\"Po Indru Neeyaga\"\\n\"What a Karavad\"\\n\"Jodi Nilavu\"\\n\"Don\\'u Donu\\'u Don\\'u\"\\n\"Bagulu Odayam Dagulu Mari\"\\n\"Torture of Raghuvaran\"\\n\"Rowdy Baby\"\\nTelugu\\nDhanush worked with WWF India to support Earth Hour 2012.[67]\\nIn August 2013, Dhanush was signed by Perfetti India Ltd. as their brand ambassador for Center Fresh[68] chewing gum.\\nHe has made his directorial debut with the movie Power Paandi.[69]\\nDhanush has won and received several nominations at the National Film Award, Filmfare Awards and Vijay Awards ceremony. He won the National award for Best Actor in 2011 for his film Aadukalam.\\n\\n'"
      ]
     },
     "execution_count": 16,
     "metadata": {},
     "output_type": "execute_result"
    }
   ],
   "source": [
    "about=\"\"\n",
    "para = soup.find(\"div\",{ \"class\" : \"mw-parser-output\" })\n",
    "for i in para.findAll(\"p\"):\n",
    "  about += i.text\n",
    "about"
   ]
  },
  {
   "cell_type": "code",
   "execution_count": 3,
   "metadata": {},
   "outputs": [
    {
     "name": "stderr",
     "output_type": "stream",
     "text": [
      "Neither PyTorch nor TensorFlow >= 2.0 have been found.Models won't be available and only tokenizers, configurationand file/data utilities can be used.\n"
     ]
    },
    {
     "ename": "ModuleNotFoundError",
     "evalue": "No module named 'torch'",
     "output_type": "error",
     "traceback": [
      "\u001b[0;31m---------------------------------------------------------------------------\u001b[0m",
      "\u001b[0;31mModuleNotFoundError\u001b[0m                       Traceback (most recent call last)",
      "\u001b[0;32m<ipython-input-3-e33af11c2f95>\u001b[0m in \u001b[0;36m<module>\u001b[0;34m()\u001b[0m\n\u001b[0;32m----> 1\u001b[0;31m \u001b[1;32mfrom\u001b[0m \u001b[0msummarizer\u001b[0m \u001b[1;32mimport\u001b[0m \u001b[0mSummarizer\u001b[0m\u001b[1;33m\u001b[0m\u001b[0m\n\u001b[0m\u001b[1;32m      2\u001b[0m \u001b[1;33m\u001b[0m\u001b[0m\n\u001b[1;32m      3\u001b[0m \u001b[0mbody\u001b[0m \u001b[1;33m=\u001b[0m \u001b[0mabout\u001b[0m\u001b[1;33m\u001b[0m\u001b[0m\n\u001b[1;32m      4\u001b[0m \u001b[1;33m\u001b[0m\u001b[0m\n\u001b[1;32m      5\u001b[0m \u001b[0mmodel\u001b[0m \u001b[1;33m=\u001b[0m \u001b[0mSummarizer\u001b[0m\u001b[1;33m(\u001b[0m\u001b[1;33m)\u001b[0m\u001b[1;33m\u001b[0m\u001b[0m\n",
      "\u001b[0;32mC:\\Users\\krishna\\Anaconda\\lib\\site-packages\\summarizer\\__init__.py\u001b[0m in \u001b[0;36m<module>\u001b[0;34m()\u001b[0m\n\u001b[0;32m----> 1\u001b[0;31m \u001b[1;32mfrom\u001b[0m \u001b[0msummarizer\u001b[0m\u001b[1;33m.\u001b[0m\u001b[0mmodel_processors\u001b[0m \u001b[1;32mimport\u001b[0m \u001b[0mSummarizer\u001b[0m\u001b[1;33m,\u001b[0m \u001b[0mSingleModel\u001b[0m\u001b[1;33m,\u001b[0m \u001b[0mTransformerSummarizer\u001b[0m\u001b[1;33m\u001b[0m\u001b[0m\n\u001b[0m",
      "\u001b[0;32mC:\\Users\\krishna\\Anaconda\\lib\\site-packages\\summarizer\\model_processors.py\u001b[0m in \u001b[0;36m<module>\u001b[0;34m()\u001b[0m\n\u001b[0;32m----> 1\u001b[0;31m \u001b[1;32mfrom\u001b[0m \u001b[0msummarizer\u001b[0m\u001b[1;33m.\u001b[0m\u001b[0mbert_parent\u001b[0m \u001b[1;32mimport\u001b[0m \u001b[0mBertParent\u001b[0m\u001b[1;33m\u001b[0m\u001b[0m\n\u001b[0m\u001b[1;32m      2\u001b[0m \u001b[1;32mfrom\u001b[0m \u001b[0msummarizer\u001b[0m\u001b[1;33m.\u001b[0m\u001b[0mcluster_features\u001b[0m \u001b[1;32mimport\u001b[0m \u001b[0mClusterFeatures\u001b[0m\u001b[1;33m\u001b[0m\u001b[0m\n\u001b[1;32m      3\u001b[0m \u001b[1;32mfrom\u001b[0m \u001b[0msummarizer\u001b[0m\u001b[1;33m.\u001b[0m\u001b[0msentence_handler\u001b[0m \u001b[1;32mimport\u001b[0m \u001b[0mSentenceHandler\u001b[0m\u001b[1;33m\u001b[0m\u001b[0m\n\u001b[1;32m      4\u001b[0m \u001b[1;32mfrom\u001b[0m \u001b[0mtyping\u001b[0m \u001b[1;32mimport\u001b[0m \u001b[0mList\u001b[0m\u001b[1;33m\u001b[0m\u001b[0m\n\u001b[1;32m      5\u001b[0m \u001b[1;32mfrom\u001b[0m \u001b[0mabc\u001b[0m \u001b[1;32mimport\u001b[0m \u001b[0mabstractmethod\u001b[0m\u001b[1;33m\u001b[0m\u001b[0m\n",
      "\u001b[0;32mC:\\Users\\krishna\\Anaconda\\lib\\site-packages\\summarizer\\bert_parent.py\u001b[0m in \u001b[0;36m<module>\u001b[0;34m()\u001b[0m\n\u001b[1;32m      1\u001b[0m \u001b[1;32mfrom\u001b[0m \u001b[0mtransformers\u001b[0m \u001b[1;32mimport\u001b[0m \u001b[1;33m*\u001b[0m\u001b[1;33m\u001b[0m\u001b[0m\n\u001b[1;32m      2\u001b[0m \u001b[1;32mimport\u001b[0m \u001b[0mlogging\u001b[0m\u001b[1;33m\u001b[0m\u001b[0m\n\u001b[0;32m----> 3\u001b[0;31m \u001b[1;32mimport\u001b[0m \u001b[0mtorch\u001b[0m\u001b[1;33m\u001b[0m\u001b[0m\n\u001b[0m\u001b[1;32m      4\u001b[0m \u001b[1;32mimport\u001b[0m \u001b[0mnumpy\u001b[0m \u001b[1;32mas\u001b[0m \u001b[0mnp\u001b[0m\u001b[1;33m\u001b[0m\u001b[0m\n\u001b[1;32m      5\u001b[0m \u001b[1;32mfrom\u001b[0m \u001b[0mnumpy\u001b[0m \u001b[1;32mimport\u001b[0m \u001b[0mndarray\u001b[0m\u001b[1;33m\u001b[0m\u001b[0m\n",
      "\u001b[0;31mModuleNotFoundError\u001b[0m: No module named 'torch'"
     ]
    }
   ],
   "source": [
    "from summarizer import Summarizer\n",
    "\n",
    "body = about\n",
    "\n",
    "model = Summarizer()\n",
    "result = model(body, min_length=60)\n",
    "full = ''.join(result)\n",
    "print(full)\n"
   ]
  },
  {
   "cell_type": "code",
   "execution_count": 11,
   "metadata": {},
   "outputs": [
    {
     "data": {
      "text/plain": [
       "'C:\\\\Users\\\\krishna\\\\Desktop\\\\PG\\\\Jcomp\\\\Dhanush\\\\Dhanush.jpg'"
      ]
     },
     "execution_count": 11,
     "metadata": {},
     "output_type": "execute_result"
    }
   ],
   "source": [
    "base_path=\"C:\\\\Users\\\\krishna\\\\Desktop\\\\PG\\\\Jcomp\\\\\"\n",
    "path=base_path+name+\"\\\\\"+name+\".jpg\"\n",
    "path"
   ]
  },
  {
   "cell_type": "code",
   "execution_count": 30,
   "metadata": {
    "collapsed": true
   },
   "outputs": [],
   "source": [
    "import tkinter as tk\n",
    "\n",
    "root = tk.Tk()\n",
    "\n",
    "text2 = tk.Text(root, height=50, width=100)\n",
    "scroll = tk.Scrollbar(root, command=text2.yview)\n",
    "text2.configure(yscrollcommand=scroll.set)\n",
    "text2.tag_configure('bold_italics', font=('Arial', 12, 'bold', 'italic'))\n",
    "text2.tag_configure('big', font=('Verdana', 20, 'bold'))\n",
    "text2.tag_configure('color',\n",
    "                    foreground='#476042',\n",
    "                    font=('Helvetica', 12, 'bold'))\n",
    "text2.tag_bind('follow',\n",
    "               '<1>',\n",
    "               lambda e, t=text2: t.insert(tk.END, \"Not now, maybe later!\"))\n",
    "text2.insert(tk.END,name+\"\\n\", 'big')\n",
    "quote = about\n",
    "text2.insert(tk.END, quote, 'color')\n",
    "text2.insert(tk.END, 'follow-up\\n', 'follow')\n",
    "text2.pack(side=tk.LEFT)\n",
    "scroll.pack(side=tk.RIGHT, fill=tk.Y)\n",
    "\n",
    "root.mainloop()"
   ]
  },
  {
   "cell_type": "code",
   "execution_count": 31,
   "metadata": {},
   "outputs": [
    {
     "name": "stdout",
     "output_type": "stream",
     "text": [
      "Collecting pysimplegui\n",
      "  Downloading https://files.pythonhosted.org/packages/b1/43/ea5d29f303241c6308b0dc7d684aab90763a7e01d011f1ec819da9ca94d0/PySimpleGUI-4.19.0-py3-none-any.whl (333kB)\n",
      "Installing collected packages: pysimplegui\n",
      "Successfully installed pysimplegui-4.19.0\n",
      "Note: you may need to restart the kernel to use updated packages.\n"
     ]
    }
   ],
   "source": []
  },
  {
   "cell_type": "code",
   "execution_count": 19,
   "metadata": {
    "collapsed": true
   },
   "outputs": [],
   "source": [
    "import PySimpleGUI as sg\n",
    "\n",
    "sg.theme('DarkAmber')\t# Add a touch of color\n",
    "# All the stuff inside your window.\n",
    "layout = [  [sg.Text(about)],\n",
    "            [sg.Text('Enter something on Row 2'), sg.InputText()],\n",
    "            [sg.Button('Ok'), sg.Button('Cancel')] ]\n",
    "\n",
    "# Create the Window/\n",
    "window = sg.Window('Window Title', layout)\n",
    "# Event Loop to process \"events\" and get the \"values\" of the inputs\n",
    "while True:\n",
    "    event, values = window.read()\n",
    "    if event in (None, 'Cancel'):\t# if user closes window or clicks cancel\n",
    "        break\n",
    "    print('You entered ', values[0])\n",
    "\n",
    "window.close()"
   ]
  },
  {
   "cell_type": "code",
   "execution_count": null,
   "metadata": {
    "collapsed": true
   },
   "outputs": [],
   "source": []
  }
 ],
 "metadata": {
  "kernelspec": {
   "display_name": "Python 3",
   "language": "python",
   "name": "python3"
  },
  "language_info": {
   "codemirror_mode": {
    "name": "ipython",
    "version": 3
   },
   "file_extension": ".py",
   "mimetype": "text/x-python",
   "name": "python",
   "nbconvert_exporter": "python",
   "pygments_lexer": "ipython3",
   "version": "3.7.4"
  }
 },
 "nbformat": 4,
 "nbformat_minor": 2
}
